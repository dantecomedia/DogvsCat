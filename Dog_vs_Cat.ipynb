{
  "nbformat": 4,
  "nbformat_minor": 0,
  "metadata": {
    "colab": {
      "name": "Dog vs Cat.ipynb",
      "provenance": [],
      "private_outputs": true
    },
    "kernelspec": {
      "name": "python3",
      "display_name": "Python 3"
    },
    "accelerator": "GPU"
  },
  "cells": [
    {
      "cell_type": "code",
      "metadata": {
        "id": "5iWcv0tFXhiY",
        "colab_type": "code",
        "colab": {}
      },
      "source": [
        "#Mounting gdrive with the colab\n",
        "\n",
        "from google.colab import drive\n",
        "drive.mount(\"/content/gdrive\")"
      ],
      "execution_count": null,
      "outputs": []
    },
    {
      "cell_type": "markdown",
      "metadata": {
        "id": "83z58WSZYhWl",
        "colab_type": "text"
      },
      "source": [
        "### Unzipping the Dog vs Cat Dataset"
      ]
    },
    {
      "cell_type": "code",
      "metadata": {
        "id": "No7YAGHcXyOO",
        "colab_type": "code",
        "colab": {}
      },
      "source": [
        "!unzip \"/content/gdrive/My Drive/Cat vs Dog/dogs-vs-cats.zip\" -d \"/content\""
      ],
      "execution_count": null,
      "outputs": []
    },
    {
      "cell_type": "markdown",
      "metadata": {
        "id": "Vui4BZ5AYmaq",
        "colab_type": "text"
      },
      "source": [
        "### Unzipping Train Dataset"
      ]
    },
    {
      "cell_type": "code",
      "metadata": {
        "id": "QtuKOD3xYGO1",
        "colab_type": "code",
        "colab": {}
      },
      "source": [
        "!unzip \"train.zip\" -d \"/content\""
      ],
      "execution_count": null,
      "outputs": []
    },
    {
      "cell_type": "code",
      "metadata": {
        "id": "2vak_9vQcmIv",
        "colab_type": "code",
        "colab": {}
      },
      "source": [
        "#loading basic dependencies\n",
        "import numpy as np #for mathematical and array manipulation\n",
        "import pandas as pd #for dataframe manipulation\n",
        "import matplotlib.pyplot as plt # for plotting and visualization\n",
        "import cv2 #for imagepreprocessing \n",
        "import keras\n",
        "from keras.models import Sequential\n",
        "from keras.layers import Dense,Flatten,Dropout\n",
        "from keras.layers import Conv2D,MaxPool2D,ZeroPadding2D,Convolution2D,MaxPooling2D\n",
        "from keras.preprocessing.image import img_to_array\n",
        "from keras.preprocessing.image import load_img\n",
        "from keras.utils import np_utils\n",
        "from keras import backend as K\n",
        "from keras.layers import BatchNormalization\n",
        "import numpy as np\n",
        "from keras.optimizers import SGD"
      ],
      "execution_count": null,
      "outputs": []
    },
    {
      "cell_type": "code",
      "metadata": {
        "id": "M1OmoR0MYVb3",
        "colab_type": "code",
        "colab": {}
      },
      "source": [
        "#counting the total instances\n",
        "import os \n",
        "path=\"/content/train\"\n",
        "count=0\n",
        "for i in os.listdir(path):\n",
        "  count=count+1\n",
        "print(count)"
      ],
      "execution_count": null,
      "outputs": []
    },
    {
      "cell_type": "code",
      "metadata": {
        "id": "2X0pDo0CZ0JN",
        "colab_type": "code",
        "colab": {}
      },
      "source": [
        "#segrating dataset between cat and dog \n",
        "image_path=\"train\"\n",
        "file_name=os.listdir(image_path)\n",
        "w=150  #width\n",
        "h=150  #height\n",
        "\n",
        "target=list()\n",
        "path=list()\n",
        "for i in file_name:\n",
        "    temp_img=i.split(\".\")[0]\n",
        "    temp_path=os.path.join(image_path, i)\n",
        "    path.append(temp_path)\n",
        "    target.append(temp_img)\n",
        "\n",
        "dataset=pd.DataFrame()\n",
        "dataset['image_path']=path\n",
        "dataset['target']=target"
      ],
      "execution_count": null,
      "outputs": []
    },
    {
      "cell_type": "code",
      "metadata": {
        "id": "BZdQSG2CcLJJ",
        "colab_type": "code",
        "colab": {}
      },
      "source": [
        "dataset.head(10)  #getting first five rows"
      ],
      "execution_count": null,
      "outputs": []
    },
    {
      "cell_type": "code",
      "metadata": {
        "id": "_pTuN4B_c1iw",
        "colab_type": "code",
        "colab": {}
      },
      "source": [
        "dataset.describe()  #getting stastitcal information"
      ],
      "execution_count": null,
      "outputs": []
    },
    {
      "cell_type": "code",
      "metadata": {
        "id": "qwSUShsSdCK9",
        "colab_type": "code",
        "colab": {}
      },
      "source": [
        "#Checking class balance\n",
        "target_counts=dataset['target'].value_counts()\n",
        "print(\"Dogs:{}\".format(target_counts['dog']))\n",
        "print(\"Cats:{}\".format(target_counts['cat']))"
      ],
      "execution_count": null,
      "outputs": []
    },
    {
      "cell_type": "code",
      "metadata": {
        "id": "W2mSyn0sdT-F",
        "colab_type": "code",
        "colab": {}
      },
      "source": [
        "#Image Visualization for cat\n",
        "plt.figure(figsize=(12,12))\n",
        "for i in range(4):\n",
        "    plt.subplot(1,4,i+1)\n",
        "    img=cv2.imread(dataset['image_path'][i])\n",
        "    plt.imshow(img)\n",
        "    plt.title(dataset['target'][i])\n",
        "    plt.tight_layout()\n",
        "plt.show()"
      ],
      "execution_count": null,
      "outputs": []
    },
    {
      "cell_type": "code",
      "metadata": {
        "id": "y6Bd8e7teH0y",
        "colab_type": "code",
        "colab": {}
      },
      "source": [
        "#Image Visualization for dog\n",
        "plt.figure(figsize=(12,12))\n",
        "for i in range(4):\n",
        "    plt.subplot(1,4,i+1)\n",
        "    img=cv2.imread(dataset['image_path'][12500+i])\n",
        "    plt.imshow(img)\n",
        "    plt.title(dataset['target'][12500+i])\n",
        "    plt.tight_layout()\n",
        "plt.show()"
      ],
      "execution_count": null,
      "outputs": []
    },
    {
      "cell_type": "code",
      "metadata": {
        "id": "vBR_MreBepUH",
        "colab_type": "code",
        "colab": {}
      },
      "source": [
        "# Converting to array and label\n",
        "# Dog label =1 and cat label = 0\n",
        "data=[]\n",
        "labels=[]\n",
        "for i in range(25000):\n",
        "  if dataset['target'][i]=='dog':\n",
        "#    try:\n",
        "    img_read=plt.imread(dataset['image_path'][i])\n",
        "    img_resize=cv2.resize(img_read,(120,120))\n",
        "    gray = cv2.cvtColor(img_resize, cv2.COLOR_BGR2GRAY)\n",
        "    img_array=img_to_array(gray)\n",
        "    data.append(img_array)\n",
        "    labels.append(1)\n",
        " #   except:\n",
        " #     None\n",
        "\n",
        "  elif dataset['target'][i]=='cat':\n",
        "    try:\n",
        "      img_read=plt.imread(dataset['image_path'][i])\n",
        "      img_resize=cv2.resize(img_read,(120,120))\n",
        "      gray = cv2.cvtColor(img_resize, cv2.COLOR_BGR2GRAY)\n",
        "      img_array=img_to_array(gray)\n",
        "      data.append(img_array)\n",
        "      labels.append(0)\n",
        "    except:\n",
        "      None\n"
      ],
      "execution_count": null,
      "outputs": []
    },
    {
      "cell_type": "code",
      "metadata": {
        "id": "IPIiY4ZshgXo",
        "colab_type": "code",
        "colab": {}
      },
      "source": [
        "#Converting both the list to numpy arrays\n",
        "image_data=np.array(data)\n",
        "labels=np.array(labels)"
      ],
      "execution_count": null,
      "outputs": []
    },
    {
      "cell_type": "code",
      "metadata": {
        "id": "mxF2jEn8i0po",
        "colab_type": "code",
        "colab": {}
      },
      "source": [
        "#Randomizing for even learning\n",
        "idx=np.arange(image_data.shape[0])\n",
        "np.random.shuffle(idx)\n",
        "image_data=image_data[idx]\n",
        "labels=labels[idx]"
      ],
      "execution_count": null,
      "outputs": []
    },
    {
      "cell_type": "code",
      "metadata": {
        "id": "Dk-eybAQogUU",
        "colab_type": "code",
        "colab": {}
      },
      "source": [
        "#Train Test split 80:20 \n",
        "from sklearn.model_selection import train_test_split\n",
        "X_train,X_test,y_train,y_test=train_test_split(image_data,labels,test_size=0.2, random_state=101)"
      ],
      "execution_count": null,
      "outputs": []
    },
    {
      "cell_type": "code",
      "metadata": {
        "id": "VxwAmuaSol2B",
        "colab_type": "code",
        "colab": {}
      },
      "source": [
        "#Converting to array\n",
        "y_train=np_utils.to_categorical(y_train,num_classes=2)\n",
        "y_test=np_utils.to_categorical(y_test,num_classes=2)"
      ],
      "execution_count": null,
      "outputs": []
    },
    {
      "cell_type": "code",
      "metadata": {
        "id": "0ANxaPKnor36",
        "colab_type": "code",
        "colab": {}
      },
      "source": [
        "#Modeling \n",
        "model=Sequential()\n",
        "model.add(Conv2D(32, (3,3), activation=\"relu\", input_shape=(120, 120, 1)))\n",
        "model.add(Conv2D(32, (3,3), activation=\"relu\"))\n",
        "model.add(BatchNormalization())\n",
        "model.add(MaxPooling2D((2,2)))\n",
        "model.add(Dropout(0.25))\n",
        "\n",
        "model.add(Conv2D(64, (3,3), activation=\"relu\"))\n",
        "model.add(Conv2D(64, (3,3), activation=\"relu\"))\n",
        "model.add(BatchNormalization())\n",
        "model.add(MaxPooling2D(2,2))\n",
        "model.add(Dropout(0.25))\n",
        "\n",
        "model.add(Conv2D(128, (3,3), activation=\"relu\"))\n",
        "model.add(Conv2D(128, (3,3), activation=\"relu\"))\n",
        "model.add(BatchNormalization())\n",
        "model.add(MaxPooling2D((2,2)))\n",
        "model.add(Dropout(0.25))\n",
        "\n",
        "model.add(Conv2D(64, (3,3), activation=\"relu\"))\n",
        "model.add(Conv2D(64, (3,3), activation=\"relu\"))\n",
        "model.add(BatchNormalization())\n",
        "model.add(MaxPooling2D((2,2)))\n",
        "model.add(Dropout(0.25))\n",
        "model.add(Flatten())\n",
        "model.add(Dense(512, activation=\"relu\"))\n",
        "model.add(Dropout(0.5))\n",
        "model.add(Dense(2, activation=\"softmax\"))\n",
        "model.summary()\n",
        "model.compile(optimizer='adam',metrics=['accuracy'], loss=\"categorical_crossentropy\")"
      ],
      "execution_count": null,
      "outputs": []
    },
    {
      "cell_type": "code",
      "metadata": {
        "id": "zv-9jSxooySJ",
        "colab_type": "code",
        "colab": {}
      },
      "source": [
        "#Fitting X_train and y_train to the compiled model above \n",
        "history=model.fit(X_train,y_train,epochs=20,batch_size=32, validation_data=(X_test,y_test))\n",
        "plt.plot(history.history['loss'])\n",
        "plt.plot(history.history['val_loss'])\n",
        "plt.title('model loss')\n",
        "plt.ylabel('loss')\n",
        "plt.xlabel('epoch')\n",
        "plt.legend(['train', 'test'], loc='upper left')\n",
        "plt.show()"
      ],
      "execution_count": null,
      "outputs": []
    },
    {
      "cell_type": "code",
      "metadata": {
        "id": "Uc-_GVptptWI",
        "colab_type": "code",
        "colab": {}
      },
      "source": [
        "#Model evaluation\n",
        "model.evaluate(X_test,y_test)"
      ],
      "execution_count": null,
      "outputs": []
    },
    {
      "cell_type": "code",
      "metadata": {
        "id": "fCJKfPkJrsI_",
        "colab_type": "code",
        "colab": {}
      },
      "source": [
        "#confusion matrix\n",
        "from sklearn.metrics import confusion_matrix\n",
        "pred = model.predict(X_test)\n",
        "pred = np.argmax(pred,axis = 1) \n",
        "y_true = np.argmax(y_test,axis = 1)"
      ],
      "execution_count": null,
      "outputs": []
    },
    {
      "cell_type": "code",
      "metadata": {
        "id": "kjPQ4uiBrv2A",
        "colab_type": "code",
        "colab": {}
      },
      "source": [
        "#plotting confusion matrix\n",
        "CM = confusion_matrix(y_true, pred)\n",
        "from mlxtend.plotting import plot_confusion_matrix\n",
        "fig, ax = plot_confusion_matrix(conf_mat=CM ,  figsize=(5, 5))\n",
        "plt.show()"
      ],
      "execution_count": null,
      "outputs": []
    },
    {
      "cell_type": "code",
      "metadata": {
        "id": "-_27MrJary9V",
        "colab_type": "code",
        "colab": {}
      },
      "source": [
        "#Generating accuracy score and classication report\n",
        "from sklearn.metrics import classification_report, accuracy_score\n",
        "print(\"accuracy score :\",accuracy_score(pred,y_true))\n",
        "print(classification_report(pred,y_true))"
      ],
      "execution_count": null,
      "outputs": []
    },
    {
      "cell_type": "code",
      "metadata": {
        "id": "t_uzU9pwsXeg",
        "colab_type": "code",
        "colab": {}
      },
      "source": [
        ""
      ],
      "execution_count": null,
      "outputs": []
    }
  ]
}